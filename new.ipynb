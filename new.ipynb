{
 "cells": [
  {
   "cell_type": "code",
   "execution_count": 32,
   "metadata": {},
   "outputs": [],
   "source": [
    "import pandas as pd \n",
    "import matplotlib.pyplot as plt \n",
    "import scipy.stats as st \n",
    "import numpy as np \n",
    "import os\n",
    "from pathlib import Path\n",
    "import ipywidgets as widgets\n",
    "from IPython.display import display"
   ]
  },
  {
   "cell_type": "code",
   "execution_count": 3,
   "metadata": {},
   "outputs": [
    {
     "data": {
      "text/html": [
       "<div>\n",
       "<style scoped>\n",
       "    .dataframe tbody tr th:only-of-type {\n",
       "        vertical-align: middle;\n",
       "    }\n",
       "\n",
       "    .dataframe tbody tr th {\n",
       "        vertical-align: top;\n",
       "    }\n",
       "\n",
       "    .dataframe thead th {\n",
       "        text-align: right;\n",
       "    }\n",
       "</style>\n",
       "<table border=\"1\" class=\"dataframe\">\n",
       "  <thead>\n",
       "    <tr style=\"text-align: right;\">\n",
       "      <th></th>\n",
       "      <th>STATE</th>\n",
       "      <th>1 EARNER</th>\n",
       "      <th>2 PEOPLE</th>\n",
       "      <th>3 PEOPLE</th>\n",
       "      <th>4 PEOPLE *</th>\n",
       "    </tr>\n",
       "  </thead>\n",
       "  <tbody>\n",
       "    <tr>\n",
       "      <th>0</th>\n",
       "      <td>alabama</td>\n",
       "      <td>56598</td>\n",
       "      <td>67953</td>\n",
       "      <td>77419</td>\n",
       "      <td>94659</td>\n",
       "    </tr>\n",
       "    <tr>\n",
       "      <th>1</th>\n",
       "      <td>alaska</td>\n",
       "      <td>76191</td>\n",
       "      <td>89932</td>\n",
       "      <td>113035</td>\n",
       "      <td>121062</td>\n",
       "    </tr>\n",
       "    <tr>\n",
       "      <th>2</th>\n",
       "      <td>arizona</td>\n",
       "      <td>64172</td>\n",
       "      <td>80249</td>\n",
       "      <td>90193</td>\n",
       "      <td>104143</td>\n",
       "    </tr>\n",
       "    <tr>\n",
       "      <th>3</th>\n",
       "      <td>arkansas</td>\n",
       "      <td>51164</td>\n",
       "      <td>63835</td>\n",
       "      <td>74475</td>\n",
       "      <td>86039</td>\n",
       "    </tr>\n",
       "    <tr>\n",
       "      <th>4</th>\n",
       "      <td>california</td>\n",
       "      <td>75235</td>\n",
       "      <td>93175</td>\n",
       "      <td>104785</td>\n",
       "      <td>122707</td>\n",
       "    </tr>\n",
       "  </tbody>\n",
       "</table>\n",
       "</div>"
      ],
      "text/plain": [
       "        STATE  1 EARNER  2 PEOPLE  3 PEOPLE  4 PEOPLE *\n",
       "0     alabama     56598     67953     77419       94659\n",
       "1      alaska     76191     89932    113035      121062\n",
       "2     arizona     64172     80249     90193      104143\n",
       "3    arkansas     51164     63835     74475       86039\n",
       "4  california     75235     93175    104785      122707"
      ]
     },
     "execution_count": 3,
     "metadata": {},
     "output_type": "execute_result"
    }
   ],
   "source": [
    "income = pd.read_csv('Resources/data/income.csv')\n",
    "income['STATE'] = income['STATE'].str.lower()\n",
    "columns_to_clean = [' 1 EARNER', ' 2 PEOPLE', ' 3 PEOPLE', ' 4 PEOPLE *']\n",
    "income[columns_to_clean] = income[columns_to_clean].replace('[\\$,]', '', regex=True)\n",
    "income.head()"
   ]
  },
  {
   "cell_type": "code",
   "execution_count": 8,
   "metadata": {},
   "outputs": [
    {
     "name": "stdout",
     "output_type": "stream",
     "text": [
      "Top 5 states with the highest numbers for '4 PEOPLE *':\n",
      "            STATE   4 PEOPLE *\n",
      "20  massachusetts     162422.0\n",
      "29     new jersey     155510.0\n",
      "19       maryland     151613.0\n",
      "28  new hampshire     151546.0\n",
      "6     connecticut     142596.0\n"
     ]
    }
   ],
   "source": [
    "# Convert the cleaned columns to numeric\n",
    "income[columns_to_clean] = income[columns_to_clean].astype(float)\n",
    "\n",
    "# Sort the DataFrame by the specified column in descending order and select the top 5\n",
    "top_5_states = income.sort_values(by=' 4 PEOPLE *', ascending=False).head(5)\n",
    "\n",
    "# Display the top 5 states\n",
    "print(\"Top 5 states with the highest numbers for '4 PEOPLE *':\")\n",
    "print(top_5_states[['STATE', ' 4 PEOPLE *']])"
   ]
  },
  {
   "cell_type": "code",
   "execution_count": 13,
   "metadata": {},
   "outputs": [
    {
     "name": "stdout",
     "output_type": "stream",
     "text": [
      "Bottom 5 states with the lowest numbers for '4 PEOPLE *':\n",
      "            STATE   4 PEOPLE *\n",
      "30     new mexico      82110.0\n",
      "3        arkansas      86039.0\n",
      "23    mississippi      86573.0\n",
      "35       oklahoma      90043.0\n",
      "47  west virginia      90258.0\n"
     ]
    }
   ],
   "source": [
    "# Convert the cleaned columns to numeric\n",
    "income[columns_to_clean] = income[columns_to_clean].astype(float)\n",
    "\n",
    "# Sort the DataFrame by the specified column in ascending order and select the bottom 5\n",
    "bottom_5_states = income.sort_values(by=' 4 PEOPLE *', ascending=True).head(5)\n",
    "\n",
    "# Display the bottom 5 states\n",
    "print(\"Bottom 5 states with the lowest numbers for '4 PEOPLE *':\")\n",
    "print(bottom_5_states[['STATE', ' 4 PEOPLE *']])"
   ]
  },
  {
   "cell_type": "code",
   "execution_count": 4,
   "metadata": {},
   "outputs": [
    {
     "name": "stdout",
     "output_type": "stream",
     "text": [
      "               Region Acronyms      Price          State\n",
      "0  Vineyard Haven, MA       MA  2366667.0  Massachusetts\n",
      "1         Edwards, CO       CO  1978833.0       Colorado\n",
      "2          Hailey, ID       ID  1545000.0          Idaho\n",
      "3         Jackson, WY       WY  1496333.0        Wyoming\n",
      "4     Santa Maria, CA       CA  1451750.0     California\n"
     ]
    }
   ],
   "source": [
    "cities = pd.read_csv('Resources/data/cities.csv')\n",
    "db_path = \"Resources\\project3.sqlite\"\n",
    "print(cities.head())"
   ]
  },
  {
   "cell_type": "code",
   "execution_count": 17,
   "metadata": {},
   "outputs": [
    {
     "name": "stdout",
     "output_type": "stream",
     "text": [
      "Column names: Index(['Region', 'Acronyms', 'Price', 'State'], dtype='object')\n",
      "Top 5 highest prices:\n",
      "               Region          State      Price\n",
      "0  Vineyard Haven, MA  Massachusetts  2366667.0\n",
      "1         Edwards, CO       Colorado  1978833.0\n",
      "2          Hailey, ID          Idaho  1545000.0\n",
      "3         Jackson, WY        Wyoming  1496333.0\n",
      "4     Santa Maria, CA     California  1451750.0\n"
     ]
    }
   ],
   "source": [
    "df = pd.read_csv('Resources/data/cities.csv')\n",
    "# Print the column names to verify\n",
    "print(\"Column names:\", df.columns)\n",
    "\n",
    "# Sort the DataFrame by 'Price' in descending order and select the top 5 highest prices\n",
    "top_highest_prices = df.sort_values(by='Price', ascending=False).head(5)\n",
    "\n",
    "# Display the top highest prices\n",
    "print(\"Top 5 highest prices:\")\n",
    "print(top_highest_prices[['Region', 'State', 'Price']])\n"
   ]
  },
  {
   "cell_type": "code",
   "execution_count": 18,
   "metadata": {},
   "outputs": [
    {
     "name": "stdout",
     "output_type": "stream",
     "text": [
      "Top 5 lowest prices with their respective regions and states:\n",
      "            Region         State    Price\n",
      "926  Clewiston, FL       Florida  68333.0\n",
      "925     Macomb, IL     Illinois   80967.0\n",
      "924      Selma, AL       Alabama  85417.0\n",
      "923    Parsons, KS        Kansas  90233.0\n",
      "922  Johnstown, PA  Pennsylvania  97467.0\n"
     ]
    }
   ],
   "source": [
    "df = pd.read_csv('Resources/data/cities.csv')\n",
    "\n",
    "# Sort the DataFrame by 'Price' in ascending order and select the bottom 5 (lowest) prices\n",
    "lowest_prices = df.sort_values(by='Price', ascending=True).head(5)\n",
    "\n",
    "# Display the lowest prices with their respective regions and states\n",
    "print(\"Top 5 lowest prices with their respective regions and states:\")\n",
    "print(lowest_prices[['Region', 'State', 'Price']])"
   ]
  },
  {
   "cell_type": "code",
   "execution_count": 5,
   "metadata": {},
   "outputs": [
    {
     "name": "stdout",
     "output_type": "stream",
     "text": [
      "        State   Median Home Price   Median Home Size(in square feet)\n",
      "0     Alabama            165200.0                               1996\n",
      "1      Alaska            293400.0                               1857\n",
      "2     Arizona            349300.0                               1942\n",
      "3    Arkansas            145300.0                               1865\n",
      "4  California            684800.0                               1778\n"
     ]
    }
   ],
   "source": [
    "sqfeet = pd.read_csv('Resources/data/sqfeet.csv')\n",
    "sqfeet[' Median Home Price'] = sqfeet[' Median Home Price'].replace('[\\$,]', '', regex=True).astype(float)\n",
    "print(sqfeet.head())"
   ]
  },
  {
   "cell_type": "code",
   "execution_count": 24,
   "metadata": {},
   "outputs": [
    {
     "name": "stdout",
     "output_type": "stream",
     "text": [
      "Top 5 highest square feet:\n",
      "       State   Median Home Price   Median Home Size(in square feet)\n",
      "43      Utah            458900.0                               2522\n",
      "5   Colorado            488600.0                               2243\n",
      "49   Wyoming            272700.0                               2198\n",
      "11     Idaho            398900.0                               2192\n",
      "7   Delaware            304500.0                               2164\n"
     ]
    }
   ],
   "source": [
    "df = pd.read_csv('Resources/data/sqfeet.csv')\n",
    "\n",
    "# Clean 'Median Home Price' column\n",
    "df[' Median Home Price'] = df[' Median Home Price'].replace('[\\$,]', '', regex=True).astype(float)\n",
    "\n",
    "# Sort the DataFrame by ' Median Home Size(in square feet)' in descending order and select the top 5 highest\n",
    "top_highest_sqfeet = df.sort_values(by=' Median Home Size(in square feet)', ascending=False).head(5)\n",
    "\n",
    "# Display the top highest square feet with their respective state and median home price\n",
    "print(\"Top 5 highest square feet:\")\n",
    "print(top_highest_sqfeet[['State', ' Median Home Price', ' Median Home Size(in square feet)']])"
   ]
  },
  {
   "cell_type": "code",
   "execution_count": 25,
   "metadata": {},
   "outputs": [
    {
     "name": "stdout",
     "output_type": "stream",
     "text": [
      "Top 5 lowest square feet:\n",
      "           State   Median Home Price   Median Home Size(in square feet)\n",
      "10        Hawaii            732000.0                               1229\n",
      "31      New York            373000.0                               1528\n",
      "38  Rhode Island            375800.0                               1576\n",
      "14          Iowa            161700.0                               1604\n",
      "21      Michigan            207800.0                               1617\n"
     ]
    }
   ],
   "source": [
    "df = pd.read_csv('Resources/data/sqfeet.csv')\n",
    "\n",
    "# Clean 'Median Home Price' column\n",
    "df[' Median Home Price'] = df[' Median Home Price'].replace('[\\$,]', '', regex=True).astype(float)\n",
    "\n",
    "# Sort the DataFrame by ' Median Home Size(in square feet)' in ascending order and select the bottom 5 (lowest)\n",
    "lowest_sqfeet = df.sort_values(by=' Median Home Size(in square feet)', ascending=True).head(5)\n",
    "\n",
    "# Display the lowest square feet with their respective state and median home price\n",
    "print(\"Top 5 lowest square feet:\")\n",
    "print(lowest_sqfeet[['State', ' Median Home Price', ' Median Home Size(in square feet)']])"
   ]
  },
  {
   "cell_type": "code",
   "execution_count": 29,
   "metadata": {},
   "outputs": [
    {
     "name": "stdout",
     "output_type": "stream",
     "text": [
      "Merged Data:\n",
      "Empty DataFrame\n",
      "Columns: [STATE,  1 EARNER,  2 PEOPLE,  3 PEOPLE,  4 PEOPLE *,  Median Home Price,  Median Home Size(in square feet), Region, Acronyms, Price, State]\n",
      "Index: []\n"
     ]
    }
   ],
   "source": [
    "# Load the datasets\n",
    "income = pd.read_csv('Resources/data/income.csv')  # Replace with the correct path\n",
    "sqfeet = pd.read_csv('Resources/data/sqfeet.csv')\n",
    "cities = pd.read_csv('Resources/data/cities.csv')\n",
    "\n",
    "# Merge income and sqfeet DataFrames based on a common column (e.g., 'STATE' in income and 'State' in sqfeet)\n",
    "merged_data = pd.merge(income, sqfeet, left_on='STATE', right_on='State')\n",
    "\n",
    "# Merge the merged_data with cities DataFrame based on a common column (e.g., 'City')\n",
    "merged_data = pd.merge(merged_data, cities, on='State')\n",
    "\n",
    "# Display the merged data\n",
    "print(\"Merged Data:\")\n",
    "print(merged_data.head())"
   ]
  },
  {
   "cell_type": "code",
   "execution_count": 30,
   "metadata": {},
   "outputs": [
    {
     "name": "stdout",
     "output_type": "stream",
     "text": [
      "Unique values in 'STATE' column of 'income':\n",
      "['ALABAMA' 'ALASKA' 'ARIZONA' 'ARKANSAS' 'CALIFORNIA' 'COLORADO'\n",
      " 'CONNECTICUT' 'DELAWARE' 'FLORIDA' 'GEORGIA' 'HAWAII' 'IDAHO' 'ILLINOIS'\n",
      " 'INDIANA' 'IOWA' 'KANSAS' 'KENTUCKY' 'LOUISIANA' 'MAINE' 'MARYLAND'\n",
      " 'MASSACHUSETTS' 'MICHIGAN' 'MINNESOTA' 'MISSISSIPPI' 'MISSOURI' 'MONTANA'\n",
      " 'NEBRASKA' 'NEVADA' 'NEW HAMPSHIRE' 'NEW JERSEY' 'NEW MEXICO' 'NEW YORK'\n",
      " 'NORTH CAROLINA' 'NORTH DAKOTA' 'OHIO' 'OKLAHOMA' 'OREGON' 'PENNSYLVANIA'\n",
      " 'RHODE ISLAND' 'SOUTH CAROLINA' 'SOUTH DAKOTA' 'TENNESSEE' 'TEXAS' 'UTAH'\n",
      " 'VERMONT' 'VIRGINIA' 'WASHINGTON' 'WEST VIRGINIA' 'WISCONSIN' 'WYOMING']\n",
      "\n",
      "Unique values in 'State' column of 'sqfeet':\n",
      "['Alabama' 'Alaska' 'Arizona' 'Arkansas' 'California' 'Colorado'\n",
      " 'Connecticut' 'Delaware' 'Florida' 'Georgia' 'Hawaii' 'Idaho' 'Illinois'\n",
      " 'Indiana' 'Iowa' 'Kansas' 'Kentucky' 'Louisiana' 'Maine' 'Maryland'\n",
      " 'Massachusetts' 'Michigan' 'Minnesota' 'Mississippi' 'Missouri' 'Montana'\n",
      " 'Nebraska' 'Nevada' 'New Hampshire' 'New Jersey' 'New Mexico' 'New York'\n",
      " 'North Carolina' 'North Dakota' 'Ohio' 'Oklahoma' 'Oregon' 'Pennsylvania'\n",
      " 'Rhode Island' 'South Carolina' 'South Dakota' 'Tennessee' 'Texas' 'Utah'\n",
      " 'Vermont' 'Virginia' 'Washington' 'West Virginia' 'Wisconsin' 'Wyoming']\n",
      "\n",
      "Unique values in 'State' column of 'cities':\n",
      "['Massachusetts' 'Colorado' 'Idaho' 'Wyoming' 'California' 'Hawaii'\n",
      " 'Florida' 'Utah' 'Montana' 'Nevada' 'New Mexico' 'Texas' 'Oregon'\n",
      " 'Washington' 'Connecticut' 'Arizona' 'New Jersey' 'North Carolina'\n",
      " 'New York' 'Maryland' 'Tennessee' 'South Dakota' 'South Carolina' 'Maine'\n",
      " 'Virginia' 'Vermont' 'New Hampshire' 'Alaska' 'Rhode Island' 'Alabama'\n",
      " 'Delaware' 'Iowa' 'Mississippi' 'Michigan' 'Georgia' 'Arkansas'\n",
      " 'Wisconsin' nan 'Minnesota' 'Pennsylvania' 'Kentucky' 'Kansas'\n",
      " 'North Dakota' 'Indiana' 'Ohio' 'Illinois' 'Missouri' 'Oklahoma'\n",
      " 'Nebraska' 'Louisiana' 'West Virginia' 'New Mexico\\n' 'Michigan '\n",
      " 'Illinois ' 'Texas ' 'West Virginia ']\n"
     ]
    }
   ],
   "source": [
    "print(\"Unique values in 'STATE' column of 'income':\")\n",
    "print(income['STATE'].unique())\n",
    "\n",
    "print(\"\\nUnique values in 'State' column of 'sqfeet':\")\n",
    "print(sqfeet['State'].unique())\n",
    "\n",
    "print(\"\\nUnique values in 'State' column of 'cities':\")\n",
    "print(cities['State'].unique())"
   ]
  },
  {
   "cell_type": "code",
   "execution_count": 31,
   "metadata": {},
   "outputs": [
    {
     "name": "stdout",
     "output_type": "stream",
     "text": [
      "Merged Data:\n",
      "     STATE  1 EARNER  2 PEOPLE  3 PEOPLE  4 PEOPLE *    State  \\\n",
      "0  Alabama    $56598    $67953    $77419      $94659  Alabama   \n",
      "1  Alabama    $56598    $67953    $77419      $94659  Alabama   \n",
      "2  Alabama    $56598    $67953    $77419      $94659  Alabama   \n",
      "3  Alabama    $56598    $67953    $77419      $94659  Alabama   \n",
      "4  Alabama    $56598    $67953    $77419      $94659  Alabama   \n",
      "\n",
      "   Median Home Price   Median Home Size(in square feet)              Region  \\\n",
      "0            $165200                               1996          Daphne, AL   \n",
      "1            $165200                               1996          Auburn, AL   \n",
      "2            $165200                               1996      Huntsville, AL   \n",
      "3            $165200                               1996  Alexander City, AL   \n",
      "4            $165200                               1996      Fort Payne, AL   \n",
      "\n",
      "  Acronyms     Price  \n",
      "0       AL  473000.0  \n",
      "1       AL  381500.0  \n",
      "2       AL  361567.0  \n",
      "3       AL  358667.0  \n",
      "4       AL  308750.0  \n"
     ]
    }
   ],
   "source": [
    "# Load the datasets\n",
    "income = pd.read_csv('Resources/data/income.csv')\n",
    "sqfeet = pd.read_csv('Resources/data/sqfeet.csv')\n",
    "cities = pd.read_csv('Resources/data/cities.csv')\n",
    "\n",
    "# Convert 'STATE' column in the 'income' DataFrame to title case\n",
    "income['STATE'] = income['STATE'].str.title()\n",
    "\n",
    "# Merge income and sqfeet DataFrames based on a common column (e.g., 'STATE' in income and 'State' in sqfeet)\n",
    "merged_data = pd.merge(income, sqfeet, left_on='STATE', right_on='State')\n",
    "\n",
    "# Merge the merged_data with cities DataFrame based on a common column (e.g., 'State')\n",
    "merged_data = pd.merge(merged_data, cities, on='State')\n",
    "\n",
    "# Display the merged data\n",
    "print(\"Merged Data:\")\n",
    "print(merged_data.head())"
   ]
  },
  {
   "cell_type": "code",
   "execution_count": 45,
   "metadata": {},
   "outputs": [
    {
     "name": "stdout",
     "output_type": "stream",
     "text": [
      "        State   Median Home Price   Median Home Size(in square feet)\n",
      "0     Alabama            165200.0                               1996\n",
      "1      Alaska            293400.0                               1857\n",
      "2     Arizona            349300.0                               1942\n",
      "3    Arkansas            145300.0                               1865\n",
      "4  California            684800.0                               1778\n"
     ]
    },
    {
     "data": {
      "application/vnd.jupyter.widget-view+json": {
       "model_id": "cfb637b2bd444aa7a30a2fda6cd2f17f",
       "version_major": 2,
       "version_minor": 0
      },
      "text/plain": [
       "interactive(children=(Dropdown(description='Sort by:', options=('1 Earner', '2 People', '3 People', '4 People …"
      ]
     },
     "metadata": {},
     "output_type": "display_data"
    }
   ],
   "source": [
    "import pandas as pd\n",
    "import ipywidgets as widgets\n",
    "from IPython.display import display\n",
    "\n",
    "# Load the datasets\n",
    "income = pd.read_csv('Resources/data/income.csv')\n",
    "income['STATE'] = income['STATE'].str.lower()\n",
    "columns_to_clean = [' 1 EARNER', ' 2 PEOPLE', ' 3 PEOPLE', ' 4 PEOPLE *']\n",
    "income[columns_to_clean] = income[columns_to_clean].replace('[\\$,]', '', regex=True)\n",
    "\n",
    "sqfeet = pd.read_csv('Resources/data/sqfeet.csv')\n",
    "sqfeet[' Median Home Price'] = sqfeet[' Median Home Price'].replace('[\\$,]', '', regex=True).astype(float)\n",
    "print(sqfeet.head())\n",
    "\n",
    "# Load the cities dataset\n",
    "cities = pd.read_csv('Resources/data/cities.csv')\n",
    "\n",
    "# Convert 'STATE' column in the 'income' DataFrame to title case\n",
    "income['STATE'] = income['STATE'].str.title()\n",
    "\n",
    "# Create a dropdown for selecting the sorting criteria\n",
    "sorting_dropdown = widgets.Dropdown(\n",
    "    options=['1 Earner', '2 People', '3 People', '4 People *', 'Region'],\n",
    "    value='1 Earner',\n",
    "    description='Sort by:'\n",
    ")\n",
    "\n",
    "def update_sorted_data(selected_criteria):\n",
    "    if selected_criteria == '1 Earner':\n",
    "        # Sort by 1 earner\n",
    "        merged_data = pd.merge(income, sqfeet, left_on='STATE', right_on='State')\n",
    "        merged_data[' 1 EARNER'] = pd.to_numeric(merged_data[' 1 EARNER'], errors='coerce')\n",
    "        merged_data = merged_data.dropna(subset=[' 1 EARNER'])\n",
    "        merged_data = merged_data.sort_values(by=' 1 EARNER')\n",
    "    elif selected_criteria == '2 People':\n",
    "        # Sort by 2 people\n",
    "        merged_data = pd.merge(income, sqfeet, left_on='STATE', right_on='State')\n",
    "        merged_data[' 2 PEOPLE'] = pd.to_numeric(merged_data[' 2 PEOPLE'], errors='coerce')\n",
    "        merged_data = merged_data.dropna(subset=[' 2 PEOPLE'])\n",
    "        merged_data = merged_data.sort_values(by=' 2 PEOPLE')\n",
    "    elif selected_criteria == '3 People':\n",
    "        # Sort by 3 people\n",
    "        merged_data = pd.merge(income, sqfeet, left_on='STATE', right_on='State')\n",
    "        merged_data[' 3 PEOPLE'] = pd.to_numeric(merged_data[' 3 PEOPLE'], errors='coerce')\n",
    "        merged_data = merged_data.dropna(subset=[' 3 PEOPLE'])\n",
    "        merged_data = merged_data.sort_values(by=' 3 PEOPLE')\n",
    "    elif selected_criteria == '4 People *':\n",
    "        # Sort by 4 people\n",
    "        merged_data = pd.merge(income, sqfeet, left_on='STATE', right_on='State')\n",
    "        merged_data[' 4 PEOPLE *'] = pd.to_numeric(merged_data[' 4 PEOPLE *'], errors='coerce')\n",
    "        merged_data = merged_data.dropna(subset=[' 4 PEOPLE *'])\n",
    "        merged_data = merged_data.sort_values(by=' 4 PEOPLE *')\n",
    "    elif selected_criteria == 'Region':\n",
    "        # Sort by region\n",
    "        merged_data = pd.merge(income, sqfeet, left_on='STATE', right_on='State')\n",
    "        merged_data = pd.merge(merged_data, cities, on='State')\n",
    "        merged_data = merged_data.sort_values(by='Region')\n",
    "    \n",
    "    # Drop the 'State' column\n",
    "    merged_data.drop('State', axis=1, inplace=True)\n",
    "    \n",
    "    # Display the sorted data\n",
    "    display(merged_data)\n",
    "\n",
    "# Set up the event handler for the dropdown\n",
    "widgets.interactive(update_sorted_data, selected_criteria=sorting_dropdown)\n",
    "\n",
    "\n",
    "\n"
   ]
  },
  {
   "cell_type": "code",
   "execution_count": 47,
   "metadata": {},
   "outputs": [
    {
     "data": {
      "application/vnd.jupyter.widget-view+json": {
       "model_id": "8633756004d2489db88c4f92f5dda5fe",
       "version_major": 2,
       "version_minor": 0
      },
      "text/plain": [
       "interactive(children=(Dropdown(description='Select a State:', options=('All', 'Alabama', 'Alaska', 'Arizona', …"
      ]
     },
     "metadata": {},
     "output_type": "display_data"
    }
   ],
   "source": [
    "# Load the cities dataset\n",
    "cities = pd.read_csv('Resources/data/cities.csv')\n",
    "\n",
    "# Get unique state values from the 'State' column\n",
    "unique_states = ['All'] + sorted(cities['State'].dropna().unique().tolist())\n",
    "# Load the cities dataset\n",
    "cities = pd.read_csv('Resources/data/cities.csv')\n",
    "\n",
    "# Get unique state values from the 'State' column\n",
    "unique_states = ['All'] + sorted(cities['State'].dropna().unique().tolist())\n",
    "\n",
    "# Create a dropdown for selecting a state from cities.csv\n",
    "state_dropdown = widgets.Dropdown(\n",
    "    options=unique_states,\n",
    "    value='All',\n",
    "    description='Select a State:'\n",
    ")\n",
    "\n",
    "def update_sorted_data(selected_state):\n",
    "    if selected_state == 'All':\n",
    "        # If 'All' is selected, display the original cities data only once\n",
    "        display(cities.drop_duplicates())\n",
    "    else:\n",
    "        # Display cities data for the selected state only once\n",
    "        state_cities = cities[cities['State'] == selected_state].drop_duplicates()\n",
    "        display(state_cities)\n",
    "\n",
    "# Set up the event handler for the state dropdown\n",
    "widgets.interactive(update_sorted_data, selected_state=state_dropdown)\n"
   ]
  }
 ],
 "metadata": {
  "kernelspec": {
   "display_name": "dev",
   "language": "python",
   "name": "python3"
  },
  "language_info": {
   "codemirror_mode": {
    "name": "ipython",
    "version": 3
   },
   "file_extension": ".py",
   "mimetype": "text/x-python",
   "name": "python",
   "nbconvert_exporter": "python",
   "pygments_lexer": "ipython3",
   "version": "3.10.9"
  }
 },
 "nbformat": 4,
 "nbformat_minor": 2
}
