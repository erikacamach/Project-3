{
 "cells": [
  {
   "cell_type": "code",
   "execution_count": 1,
   "metadata": {},
   "outputs": [],
   "source": [
    "import pandas as pd\n",
    "import sqlite3"
   ]
  },
  {
   "cell_type": "code",
   "execution_count": 2,
   "metadata": {},
   "outputs": [
    {
     "data": {
      "text/html": [
       "<div>\n",
       "<style scoped>\n",
       "    .dataframe tbody tr th:only-of-type {\n",
       "        vertical-align: middle;\n",
       "    }\n",
       "\n",
       "    .dataframe tbody tr th {\n",
       "        vertical-align: top;\n",
       "    }\n",
       "\n",
       "    .dataframe thead th {\n",
       "        text-align: right;\n",
       "    }\n",
       "</style>\n",
       "<table border=\"1\" class=\"dataframe\">\n",
       "  <thead>\n",
       "    <tr style=\"text-align: right;\">\n",
       "      <th></th>\n",
       "      <th>Id</th>\n",
       "      <th>State</th>\n",
       "      <th>Median Home Price</th>\n",
       "      <th>Median Home Size (in square feet)</th>\n",
       "      <th>Median Household Income</th>\n",
       "    </tr>\n",
       "  </thead>\n",
       "  <tbody>\n",
       "    <tr>\n",
       "      <th>0</th>\n",
       "      <td>1</td>\n",
       "      <td>Alabama</td>\n",
       "      <td>165200</td>\n",
       "      <td>1996</td>\n",
       "      <td>52035</td>\n",
       "    </tr>\n",
       "    <tr>\n",
       "      <th>1</th>\n",
       "      <td>2</td>\n",
       "      <td>Alaska</td>\n",
       "      <td>293400</td>\n",
       "      <td>1857</td>\n",
       "      <td>77790</td>\n",
       "    </tr>\n",
       "    <tr>\n",
       "      <th>2</th>\n",
       "      <td>3</td>\n",
       "      <td>Arizona</td>\n",
       "      <td>349300</td>\n",
       "      <td>1942</td>\n",
       "      <td>61529</td>\n",
       "    </tr>\n",
       "    <tr>\n",
       "      <th>3</th>\n",
       "      <td>4</td>\n",
       "      <td>Arkansas</td>\n",
       "      <td>145300</td>\n",
       "      <td>1865</td>\n",
       "      <td>49475</td>\n",
       "    </tr>\n",
       "    <tr>\n",
       "      <th>4</th>\n",
       "      <td>5</td>\n",
       "      <td>California</td>\n",
       "      <td>684800</td>\n",
       "      <td>1778</td>\n",
       "      <td>78672</td>\n",
       "    </tr>\n",
       "  </tbody>\n",
       "</table>\n",
       "</div>"
      ],
      "text/plain": [
       "   Id       State  Median Home Price  Median Home Size (in square feet)  \\\n",
       "0   1     Alabama             165200                               1996   \n",
       "1   2      Alaska             293400                               1857   \n",
       "2   3     Arizona             349300                               1942   \n",
       "3   4    Arkansas             145300                               1865   \n",
       "4   5  California             684800                               1778   \n",
       "\n",
       "   Median Household Income  \n",
       "0                    52035  \n",
       "1                    77790  \n",
       "2                    61529  \n",
       "3                    49475  \n",
       "4                    78672  "
      ]
     },
     "execution_count": 2,
     "metadata": {},
     "output_type": "execute_result"
    }
   ],
   "source": [
    "# Load Median Houseprice and Median Income data from Excel to DataFrame\n",
    "house_price_file_path = \"Resources\\data\\house_price_data.xlsx\"\n",
    "house_price_df = pd.read_excel(house_price_file_path)\n",
    "#house_price_df.head()\n"
   ]
  },
  {
   "cell_type": "code",
   "execution_count": 3,
   "metadata": {},
   "outputs": [],
   "source": [
    "# Load Median Houseprice and Median Income data from DataFrame to sqlite database\n",
    "db_path = \"Resources\\project3.sqlite\"\n",
    "conn = sqlite3.connect(db_path)\n",
    "house_price_df.to_sql('house_data', conn, index=False, if_exists='replace')\n",
    "conn.close()"
   ]
  },
  {
   "cell_type": "code",
   "execution_count": 4,
   "metadata": {},
   "outputs": [
    {
     "data": {
      "text/html": [
       "<div>\n",
       "<style scoped>\n",
       "    .dataframe tbody tr th:only-of-type {\n",
       "        vertical-align: middle;\n",
       "    }\n",
       "\n",
       "    .dataframe tbody tr th {\n",
       "        vertical-align: top;\n",
       "    }\n",
       "\n",
       "    .dataframe thead th {\n",
       "        text-align: right;\n",
       "    }\n",
       "</style>\n",
       "<table border=\"1\" class=\"dataframe\">\n",
       "  <thead>\n",
       "    <tr style=\"text-align: right;\">\n",
       "      <th></th>\n",
       "      <th>RegionName</th>\n",
       "      <th>StateName</th>\n",
       "      <th>2023</th>\n",
       "    </tr>\n",
       "  </thead>\n",
       "  <tbody>\n",
       "    <tr>\n",
       "      <th>0</th>\n",
       "      <td>Vineyard Haven, MA</td>\n",
       "      <td>MA</td>\n",
       "      <td>2366667.0</td>\n",
       "    </tr>\n",
       "    <tr>\n",
       "      <th>1</th>\n",
       "      <td>Edwards, CO</td>\n",
       "      <td>CO</td>\n",
       "      <td>1978833.0</td>\n",
       "    </tr>\n",
       "    <tr>\n",
       "      <th>2</th>\n",
       "      <td>Hailey, ID</td>\n",
       "      <td>ID</td>\n",
       "      <td>1545000.0</td>\n",
       "    </tr>\n",
       "    <tr>\n",
       "      <th>3</th>\n",
       "      <td>Jackson, WY</td>\n",
       "      <td>WY</td>\n",
       "      <td>1496333.0</td>\n",
       "    </tr>\n",
       "    <tr>\n",
       "      <th>4</th>\n",
       "      <td>Santa Maria, CA</td>\n",
       "      <td>CA</td>\n",
       "      <td>1451750.0</td>\n",
       "    </tr>\n",
       "  </tbody>\n",
       "</table>\n",
       "</div>"
      ],
      "text/plain": [
       "           RegionName StateName       2023\n",
       "0  Vineyard Haven, MA        MA  2366667.0\n",
       "1         Edwards, CO        CO  1978833.0\n",
       "2          Hailey, ID        ID  1545000.0\n",
       "3         Jackson, WY        WY  1496333.0\n",
       "4     Santa Maria, CA        CA  1451750.0"
      ]
     },
     "execution_count": 4,
     "metadata": {},
     "output_type": "execute_result"
    }
   ],
   "source": [
    "# Load Cities and Income details from CSV to DataFrame\n",
    "income_file_path = \"Resources\\data\\income.csv\"\n",
    "income_df = pd.read_csv(income_file_path)\n",
    "# income_df.head()\n",
    "cities_file_path = \"Resources\\data\\cities.csv\"\n",
    "cities_df = pd.read_csv(cities_file_path)\n",
    "#cities_df.head()\n"
   ]
  },
  {
   "cell_type": "code",
   "execution_count": 5,
   "metadata": {},
   "outputs": [],
   "source": [
    "# Load Cities and Income details from DataFrame to sqlite database\n",
    "conn = sqlite3.connect(db_path)\n",
    "income_df.to_sql('income_data', conn, index=False, if_exists='replace')\n",
    "income_df.to_sql('cities_data', conn, index=False, if_exists='replace')\n",
    "conn.close()"
   ]
  }
 ],
 "metadata": {
  "kernelspec": {
   "display_name": "dev",
   "language": "python",
   "name": "python3"
  },
  "language_info": {
   "codemirror_mode": {
    "name": "ipython",
    "version": 3
   },
   "file_extension": ".py",
   "mimetype": "text/x-python",
   "name": "python",
   "nbconvert_exporter": "python",
   "pygments_lexer": "ipython3",
   "version": "3.10.11"
  },
  "orig_nbformat": 4
 },
 "nbformat": 4,
 "nbformat_minor": 2
}
