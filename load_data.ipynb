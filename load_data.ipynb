{
 "cells": [
  {
   "cell_type": "code",
   "execution_count": 1,
   "metadata": {},
   "outputs": [],
   "source": [
    "import pandas as pd\n",
    "import sqlite3"
   ]
  },
  {
   "cell_type": "code",
   "execution_count": 2,
   "metadata": {},
   "outputs": [],
   "source": [
    "# Load Median Houseprice and Median Income data from Excel to DataFrame\n",
    "house_price_file_path = \"Resources\\data\\house_price_data.xlsx\"\n",
    "house_price_df = pd.read_excel(house_price_file_path)\n",
    "#house_price_df.head()\n"
   ]
  },
  {
   "cell_type": "code",
   "execution_count": 3,
   "metadata": {},
   "outputs": [],
   "source": [
    "# Load Median Houseprice and Median Income data from DataFrame to sqlite database\n",
    "db_path = \"Resources\\project3.sqlite\"\n",
    "conn = sqlite3.connect(db_path)\n",
    "house_price_df.to_sql('house_data', conn, index=False, if_exists='replace')\n",
    "conn.close()"
   ]
  },
  {
   "cell_type": "code",
   "execution_count": 4,
   "metadata": {},
   "outputs": [],
   "source": [
    "# Load Cities and Income details from CSV to DataFrame\n",
    "income_file_path = \"Resources\\data\\income.csv\"\n",
    "income_df = pd.read_csv(income_file_path)\n",
    "# income_df.head()\n",
    "cities_file_path = \"Resources\\data\\cities.csv\"\n",
    "cities_df = pd.read_csv(cities_file_path)\n",
    "#cities_df.head()\n"
   ]
  },
  {
   "cell_type": "code",
   "execution_count": 5,
   "metadata": {},
   "outputs": [],
   "source": [
    "# Load Cities and Income details from DataFrame to sqlite database\n",
    "conn = sqlite3.connect(db_path)\n",
    "income_df.to_sql('income_data', conn, index=False, if_exists='replace')\n",
    "cities_df.to_sql('cities_data', conn, index=False, if_exists='replace')\n",
    "conn.close()"
   ]
  }
 ],
 "metadata": {
  "kernelspec": {
   "display_name": "dev",
   "language": "python",
   "name": "python3"
  },
  "language_info": {
   "codemirror_mode": {
    "name": "ipython",
    "version": 3
   },
   "file_extension": ".py",
   "mimetype": "text/x-python",
   "name": "python",
   "nbconvert_exporter": "python",
   "pygments_lexer": "ipython3",
   "version": "3.10.9"
  },
  "orig_nbformat": 4
 },
 "nbformat": 4,
 "nbformat_minor": 2
}
