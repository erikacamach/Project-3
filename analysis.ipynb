{
 "cells": [
  {
   "cell_type": "code",
   "execution_count": 1,
   "metadata": {},
   "outputs": [],
   "source": [
    "import pandas as pd\n",
    "from sqlalchemy import create_engine \n",
    "from matplotlib import pyplot as plt\n",
    "from scipy.stats import linregress\n"
   ]
  },
  {
   "cell_type": "code",
   "execution_count": 2,
   "metadata": {},
   "outputs": [],
   "source": [
    "#  Database file path\n",
    "db_path = \"Resources\\project3.sqlite\"\n",
    "\n",
    "# Connecting to the SQLite database\n",
    "engine = create_engine(f\"sqlite:///{db_path}\")\n",
    "conn = engine.connect()\n",
    "\n",
    "# Reading data from the database and loading in DataFrame\n",
    "query = \"select * from house_data\"\n",
    "housedata_df = pd.read_sql(query,conn)\n",
    "\n",
    "# Close the connection\n",
    "conn.close()"
   ]
  },
  {
   "cell_type": "code",
   "execution_count": 3,
   "metadata": {},
   "outputs": [
    {
     "data": {
      "text/html": [
       "<div>\n",
       "<style scoped>\n",
       "    .dataframe tbody tr th:only-of-type {\n",
       "        vertical-align: middle;\n",
       "    }\n",
       "\n",
       "    .dataframe tbody tr th {\n",
       "        vertical-align: top;\n",
       "    }\n",
       "\n",
       "    .dataframe thead th {\n",
       "        text-align: right;\n",
       "    }\n",
       "</style>\n",
       "<table border=\"1\" class=\"dataframe\">\n",
       "  <thead>\n",
       "    <tr style=\"text-align: right;\">\n",
       "      <th></th>\n",
       "      <th>Id</th>\n",
       "      <th>State</th>\n",
       "      <th>Median Home Price</th>\n",
       "      <th>Median Home Size (in square feet)</th>\n",
       "      <th>Median Household Income</th>\n",
       "    </tr>\n",
       "  </thead>\n",
       "  <tbody>\n",
       "    <tr>\n",
       "      <th>0</th>\n",
       "      <td>1</td>\n",
       "      <td>Alabama</td>\n",
       "      <td>165200</td>\n",
       "      <td>1996</td>\n",
       "      <td>52035</td>\n",
       "    </tr>\n",
       "    <tr>\n",
       "      <th>1</th>\n",
       "      <td>2</td>\n",
       "      <td>Alaska</td>\n",
       "      <td>293400</td>\n",
       "      <td>1857</td>\n",
       "      <td>77790</td>\n",
       "    </tr>\n",
       "    <tr>\n",
       "      <th>2</th>\n",
       "      <td>3</td>\n",
       "      <td>Arizona</td>\n",
       "      <td>349300</td>\n",
       "      <td>1942</td>\n",
       "      <td>61529</td>\n",
       "    </tr>\n",
       "    <tr>\n",
       "      <th>3</th>\n",
       "      <td>4</td>\n",
       "      <td>Arkansas</td>\n",
       "      <td>145300</td>\n",
       "      <td>1865</td>\n",
       "      <td>49475</td>\n",
       "    </tr>\n",
       "    <tr>\n",
       "      <th>4</th>\n",
       "      <td>5</td>\n",
       "      <td>California</td>\n",
       "      <td>684800</td>\n",
       "      <td>1778</td>\n",
       "      <td>78672</td>\n",
       "    </tr>\n",
       "  </tbody>\n",
       "</table>\n",
       "</div>"
      ],
      "text/plain": [
       "   Id       State  Median Home Price  Median Home Size (in square feet)  \\\n",
       "0   1     Alabama             165200                               1996   \n",
       "1   2      Alaska             293400                               1857   \n",
       "2   3     Arizona             349300                               1942   \n",
       "3   4    Arkansas             145300                               1865   \n",
       "4   5  California             684800                               1778   \n",
       "\n",
       "   Median Household Income  \n",
       "0                    52035  \n",
       "1                    77790  \n",
       "2                    61529  \n",
       "3                    49475  \n",
       "4                    78672  "
      ]
     },
     "execution_count": 3,
     "metadata": {},
     "output_type": "execute_result"
    }
   ],
   "source": [
    "housedata_df.head()\n",
    "# housedata_df.columns"
   ]
  },
  {
   "cell_type": "markdown",
   "metadata": {},
   "source": [
    "#### States with highest and lowest Median House Price"
   ]
  },
  {
   "cell_type": "code",
   "execution_count": 4,
   "metadata": {},
   "outputs": [
    {
     "data": {
      "text/html": [
       "<div>\n",
       "<style scoped>\n",
       "    .dataframe tbody tr th:only-of-type {\n",
       "        vertical-align: middle;\n",
       "    }\n",
       "\n",
       "    .dataframe tbody tr th {\n",
       "        vertical-align: top;\n",
       "    }\n",
       "\n",
       "    .dataframe thead th {\n",
       "        text-align: right;\n",
       "    }\n",
       "</style>\n",
       "<table border=\"1\" class=\"dataframe\">\n",
       "  <thead>\n",
       "    <tr style=\"text-align: right;\">\n",
       "      <th></th>\n",
       "      <th>State</th>\n",
       "      <th>Median Home Price</th>\n",
       "      <th>Median Household Income</th>\n",
       "    </tr>\n",
       "  </thead>\n",
       "  <tbody>\n",
       "    <tr>\n",
       "      <th>10</th>\n",
       "      <td>Hawaii</td>\n",
       "      <td>732000</td>\n",
       "      <td>83173</td>\n",
       "    </tr>\n",
       "    <tr>\n",
       "      <th>4</th>\n",
       "      <td>California</td>\n",
       "      <td>684800</td>\n",
       "      <td>78672</td>\n",
       "    </tr>\n",
       "    <tr>\n",
       "      <th>20</th>\n",
       "      <td>Massachusetts</td>\n",
       "      <td>510500</td>\n",
       "      <td>84385</td>\n",
       "    </tr>\n",
       "    <tr>\n",
       "      <th>46</th>\n",
       "      <td>Washington</td>\n",
       "      <td>504200</td>\n",
       "      <td>77006</td>\n",
       "    </tr>\n",
       "    <tr>\n",
       "      <th>5</th>\n",
       "      <td>Colorado</td>\n",
       "      <td>488600</td>\n",
       "      <td>75231</td>\n",
       "    </tr>\n",
       "  </tbody>\n",
       "</table>\n",
       "</div>"
      ],
      "text/plain": [
       "            State  Median Home Price  Median Household Income\n",
       "10         Hawaii             732000                    83173\n",
       "4      California             684800                    78672\n",
       "20  Massachusetts             510500                    84385\n",
       "46     Washington             504200                    77006\n",
       "5        Colorado             488600                    75231"
      ]
     },
     "execution_count": 4,
     "metadata": {},
     "output_type": "execute_result"
    }
   ],
   "source": [
    "# Sorting  DataFrame in descending order of Median Home Price \n",
    "house_price_sorted_d = housedata_df.sort_values(\"Median Home Price\", ascending = False)\n",
    "highest5_df = house_price_sorted_d[['State', 'Median Home Price','Median Household Income']].head()\n",
    "highest5_df"
   ]
  },
  {
   "cell_type": "code",
   "execution_count": 5,
   "metadata": {},
   "outputs": [
    {
     "data": {
      "text/html": [
       "<div>\n",
       "<style scoped>\n",
       "    .dataframe tbody tr th:only-of-type {\n",
       "        vertical-align: middle;\n",
       "    }\n",
       "\n",
       "    .dataframe tbody tr th {\n",
       "        vertical-align: top;\n",
       "    }\n",
       "\n",
       "    .dataframe thead th {\n",
       "        text-align: right;\n",
       "    }\n",
       "</style>\n",
       "<table border=\"1\" class=\"dataframe\">\n",
       "  <thead>\n",
       "    <tr style=\"text-align: right;\">\n",
       "      <th></th>\n",
       "      <th>State</th>\n",
       "      <th>Median Home Price</th>\n",
       "      <th>Median Household Income</th>\n",
       "    </tr>\n",
       "  </thead>\n",
       "  <tbody>\n",
       "    <tr>\n",
       "      <th>47</th>\n",
       "      <td>West Virginia</td>\n",
       "      <td>114600</td>\n",
       "      <td>48037</td>\n",
       "    </tr>\n",
       "    <tr>\n",
       "      <th>23</th>\n",
       "      <td>Mississippi</td>\n",
       "      <td>141900</td>\n",
       "      <td>46511</td>\n",
       "    </tr>\n",
       "    <tr>\n",
       "      <th>3</th>\n",
       "      <td>Arkansas</td>\n",
       "      <td>145300</td>\n",
       "      <td>49475</td>\n",
       "    </tr>\n",
       "    <tr>\n",
       "      <th>35</th>\n",
       "      <td>Oklahoma</td>\n",
       "      <td>146600</td>\n",
       "      <td>53840</td>\n",
       "    </tr>\n",
       "    <tr>\n",
       "      <th>14</th>\n",
       "      <td>Iowa</td>\n",
       "      <td>161700</td>\n",
       "      <td>61836</td>\n",
       "    </tr>\n",
       "  </tbody>\n",
       "</table>\n",
       "</div>"
      ],
      "text/plain": [
       "            State  Median Home Price  Median Household Income\n",
       "47  West Virginia             114600                    48037\n",
       "23    Mississippi             141900                    46511\n",
       "3        Arkansas             145300                    49475\n",
       "35       Oklahoma             146600                    53840\n",
       "14           Iowa             161700                    61836"
      ]
     },
     "execution_count": 5,
     "metadata": {},
     "output_type": "execute_result"
    }
   ],
   "source": [
    "# Sorting DataFrame in acending order of Median Home Price \n",
    "house_price_sorted_a = housedata_df.sort_values(\"Median Home Price\")\n",
    "lowest5_df = house_price_sorted_a[['State', 'Median Home Price','Median Household Income']].head()\n",
    "lowest5_df"
   ]
  },
  {
   "cell_type": "code",
   "execution_count": 6,
   "metadata": {},
   "outputs": [
    {
     "data": {
      "image/png": "[encoded data removed]",
      "text/plain": [
       "<Figure size 432x288 with 1 Axes>"
      ]
     },
     "metadata": {
      "needs_background": "light"
     },
     "output_type": "display_data"
    },
    {
     "data": {
      "image/png": "[encoded data removed]",
      "text/plain": [
       "<Figure size 432x288 with 1 Axes>"
      ]
     },
     "metadata": {
      "needs_background": "light"
     },
     "output_type": "display_data"
    }
   ],
   "source": [
    "# Charts of States with Highest Median House Price and States with Lowest Median House Price\"\n",
    "a = highest5_df.plot(kind = \"bar\", title = \"States with Highest Median House Price\")\n",
    "b = lowest5_df.plot(kind = \"bar\",title = \"States with Lowest Median House Price\" )\n",
    "a.set_xticklabels(highest5_df[\"State\"], rotation=30)\n",
    "b.set_xticklabels(lowest5_df[\"State\"], rotation=30)\n",
    "plt.show()\n"
   ]
  },
  {
   "cell_type": "code",
   "execution_count": 7,
   "metadata": {},
   "outputs": [
    {
     "data": {
      "text/html": [
       "<div>\n",
       "<style scoped>\n",
       "    .dataframe tbody tr th:only-of-type {\n",
       "        vertical-align: middle;\n",
       "    }\n",
       "\n",
       "    .dataframe tbody tr th {\n",
       "        vertical-align: top;\n",
       "    }\n",
       "\n",
       "    .dataframe thead th {\n",
       "        text-align: right;\n",
       "    }\n",
       "</style>\n",
       "<table border=\"1\" class=\"dataframe\">\n",
       "  <thead>\n",
       "    <tr style=\"text-align: right;\">\n",
       "      <th></th>\n",
       "      <th>Id</th>\n",
       "      <th>State</th>\n",
       "      <th>Median Home Price</th>\n",
       "      <th>Median Home Size (in square feet)</th>\n",
       "      <th>Median Household Income</th>\n",
       "    </tr>\n",
       "  </thead>\n",
       "  <tbody>\n",
       "    <tr>\n",
       "      <th>19</th>\n",
       "      <td>20</td>\n",
       "      <td>Maryland</td>\n",
       "      <td>361900</td>\n",
       "      <td>1862</td>\n",
       "      <td>87063</td>\n",
       "    </tr>\n",
       "    <tr>\n",
       "      <th>29</th>\n",
       "      <td>30</td>\n",
       "      <td>New Jersey</td>\n",
       "      <td>397900</td>\n",
       "      <td>1724</td>\n",
       "      <td>85245</td>\n",
       "    </tr>\n",
       "    <tr>\n",
       "      <th>20</th>\n",
       "      <td>21</td>\n",
       "      <td>Massachusetts</td>\n",
       "      <td>510500</td>\n",
       "      <td>1805</td>\n",
       "      <td>84385</td>\n",
       "    </tr>\n",
       "    <tr>\n",
       "      <th>10</th>\n",
       "      <td>11</td>\n",
       "      <td>Hawaii</td>\n",
       "      <td>732000</td>\n",
       "      <td>1229</td>\n",
       "      <td>83173</td>\n",
       "    </tr>\n",
       "    <tr>\n",
       "      <th>6</th>\n",
       "      <td>7</td>\n",
       "      <td>Connecticut</td>\n",
       "      <td>318400</td>\n",
       "      <td>1942</td>\n",
       "      <td>79855</td>\n",
       "    </tr>\n",
       "  </tbody>\n",
       "</table>\n",
       "</div>"
      ],
      "text/plain": [
       "    Id          State  Median Home Price  Median Home Size (in square feet)  \\\n",
       "19  20       Maryland             361900                               1862   \n",
       "29  30     New Jersey             397900                               1724   \n",
       "20  21  Massachusetts             510500                               1805   \n",
       "10  11         Hawaii             732000                               1229   \n",
       "6    7    Connecticut             318400                               1942   \n",
       "\n",
       "    Median Household Income  \n",
       "19                    87063  \n",
       "29                    85245  \n",
       "20                    84385  \n",
       "10                    83173  \n",
       "6                     79855  "
      ]
     },
     "execution_count": 7,
     "metadata": {},
     "output_type": "execute_result"
    }
   ],
   "source": [
    "# Sorting DataFrame in descending order of Median Income\n",
    "median_income_sorted_d = housedata_df.sort_values(\"Median Household Income\", ascending = False)\n",
    "median_income_sorted_d.head()"
   ]
  },
  {
   "cell_type": "code",
   "execution_count": 8,
   "metadata": {},
   "outputs": [
    {
     "data": {
      "text/html": [
       "<div>\n",
       "<style scoped>\n",
       "    .dataframe tbody tr th:only-of-type {\n",
       "        vertical-align: middle;\n",
       "    }\n",
       "\n",
       "    .dataframe tbody tr th {\n",
       "        vertical-align: top;\n",
       "    }\n",
       "\n",
       "    .dataframe thead th {\n",
       "        text-align: right;\n",
       "    }\n",
       "</style>\n",
       "<table border=\"1\" class=\"dataframe\">\n",
       "  <thead>\n",
       "    <tr style=\"text-align: right;\">\n",
       "      <th></th>\n",
       "      <th>Id</th>\n",
       "      <th>State</th>\n",
       "      <th>Median Home Price</th>\n",
       "      <th>Median Home Size (in square feet)</th>\n",
       "      <th>Median Household Income</th>\n",
       "    </tr>\n",
       "  </thead>\n",
       "  <tbody>\n",
       "    <tr>\n",
       "      <th>23</th>\n",
       "      <td>24</td>\n",
       "      <td>Mississippi</td>\n",
       "      <td>141900</td>\n",
       "      <td>2033</td>\n",
       "      <td>46511</td>\n",
       "    </tr>\n",
       "    <tr>\n",
       "      <th>47</th>\n",
       "      <td>48</td>\n",
       "      <td>West Virginia</td>\n",
       "      <td>114600</td>\n",
       "      <td>1789</td>\n",
       "      <td>48037</td>\n",
       "    </tr>\n",
       "    <tr>\n",
       "      <th>3</th>\n",
       "      <td>4</td>\n",
       "      <td>Arkansas</td>\n",
       "      <td>145300</td>\n",
       "      <td>1865</td>\n",
       "      <td>49475</td>\n",
       "    </tr>\n",
       "    <tr>\n",
       "      <th>17</th>\n",
       "      <td>18</td>\n",
       "      <td>Louisiana</td>\n",
       "      <td>189200</td>\n",
       "      <td>1923</td>\n",
       "      <td>50800</td>\n",
       "    </tr>\n",
       "    <tr>\n",
       "      <th>30</th>\n",
       "      <td>31</td>\n",
       "      <td>New Mexico</td>\n",
       "      <td>246000</td>\n",
       "      <td>1996</td>\n",
       "      <td>51243</td>\n",
       "    </tr>\n",
       "  </tbody>\n",
       "</table>\n",
       "</div>"
      ],
      "text/plain": [
       "    Id          State  Median Home Price  Median Home Size (in square feet)  \\\n",
       "23  24    Mississippi             141900                               2033   \n",
       "47  48  West Virginia             114600                               1789   \n",
       "3    4       Arkansas             145300                               1865   \n",
       "17  18      Louisiana             189200                               1923   \n",
       "30  31     New Mexico             246000                               1996   \n",
       "\n",
       "    Median Household Income  \n",
       "23                    46511  \n",
       "47                    48037  \n",
       "3                     49475  \n",
       "17                    50800  \n",
       "30                    51243  "
      ]
     },
     "execution_count": 8,
     "metadata": {},
     "output_type": "execute_result"
    }
   ],
   "source": [
    "# Sorting DataFrame in descending order of Median Income\n",
    "median_income_sorted_a = housedata_df.sort_values(\"Median Household Income\")\n",
    "median_income_sorted_a.head()"
   ]
  },
  {
   "cell_type": "markdown",
   "metadata": {},
   "source": [
    "#### Find the relation between Median Household Income and Median House Price\n",
    "Based on the scatter plot and r-square value, there is a positive correlation between the Median Income and Median House Price. The p-value is < 0.05, means null hypothesis is rejected. So p-value also shows that there is significant relation between Median Income and Median House Price."
   ]
  },
  {
   "cell_type": "code",
   "execution_count": 9,
   "metadata": {},
   "outputs": [
    {
     "name": "stdout",
     "output_type": "stream",
     "text": [
      "The r-squared is: 0.5425390057211903, p-value i 1.079667853713134e-09\n"
     ]
    },
    {
     "data": {
      "image/png": "[encoded data removed]",
      "text/plain": [
       "<Figure size 432x288 with 1 Axes>"
      ]
     },
     "metadata": {
      "needs_background": "light"
     },
     "output_type": "display_data"
    }
   ],
   "source": [
    "# Find relation between median household income and median house price\n",
    "# Print out the r-squared value along with the plot.\n",
    "x_values = housedata_df['Median Household Income']\n",
    "y_values = housedata_df['Median Home Price']\n",
    "(slope, intercept, rvalue, pvalue, stderr) = linregress(x_values, y_values)\n",
    "regress_values = x_values * slope + intercept\n",
    "# line_eq = \"y = \" + str(round(slope,2)) + \"x + \" + str(round(intercept,2))\n",
    "plt.scatter(x_values,y_values)\n",
    "plt.plot(x_values,regress_values,\"r-\")\n",
    "# plt.annotate(line_eq,(45000,400000),fontsize=15,color=\"red\")\n",
    "plt.xlabel('Median Income')\n",
    "plt.ylabel('Median House Prices ($100,000)')\n",
    "plt.title(\" Relation between Median household income and Median house price\")\n",
    "print(f\"The r-squared is: {rvalue**2}, p-value i {pvalue}\")\n",
    "plt.show()"
   ]
  }
 ],
 "metadata": {
  "kernelspec": {
   "display_name": "dev",
   "language": "python",
   "name": "python3"
  },
  "language_info": {
   "codemirror_mode": {
    "name": "ipython",
    "version": 3
   },
   "file_extension": ".py",
   "mimetype": "text/x-python",
   "name": "python",
   "nbconvert_exporter": "python",
   "pygments_lexer": "ipython3",
   "version": "3.10.11"
  },
  "orig_nbformat": 4
 },
 "nbformat": 4,
 "nbformat_minor": 2
}
