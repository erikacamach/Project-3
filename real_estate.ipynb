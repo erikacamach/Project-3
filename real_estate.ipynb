{
 "cells": [
  {
   "cell_type": "code",
   "execution_count": 1,
   "metadata": {},
   "outputs": [],
   "source": [
    "# Import the dependencies.\n",
    "from pathlib import Path\n",
    "from sqlalchemy import create_engine\n",
    "import pandas as pd\n",
    "import os\n",
    "import numpy as np\n",
    "import sqlite3"
   ]
  },
  {
   "cell_type": "code",
   "execution_count": 4,
   "metadata": {},
   "outputs": [
    {
     "name": "stdout",
     "output_type": "stream",
     "text": [
      "Column names in the DataFrame:\n",
      "Index(['STATE', ' 1 EARNER', ' 2 PEOPLE', ' 3 PEOPLE', ' 4 PEOPLE *'], dtype='object')\n"
     ]
    }
   ],
   "source": [
    "print(\"Column names in the DataFrame:\")\n",
    "print(income.columns)"
   ]
  },
  {
   "cell_type": "code",
   "execution_count": 3,
   "metadata": {},
   "outputs": [],
   "source": [
    "income = pd.read_csv('Resources/data/income.csv')\n",
    "income['STATE'] = income['STATE'].str.lower()\n",
    "columns_to_clean = [' 1 EARNER', ' 2 PEOPLE', ' 3 PEOPLE', ' 4 PEOPLE *']\n",
    "income[columns_to_clean] = income[columns_to_clean].replace('[\\$,]', '', regex=True)\n",
    "income.head(52)\n",
    "db_path = \"Resources\\project3.sqlite\"\n",
    "conn = sqlite3.connect(db_path)\n",
    "income.to_sql('income_data', conn, index=False, if_exists='replace', dtype={'STATE':'NVARCHAR PRIMARY KEY'})\n",
    "conn.close()"
   ]
  },
  {
   "cell_type": "code",
   "execution_count": 12,
   "metadata": {},
   "outputs": [
    {
     "name": "stdout",
     "output_type": "stream",
     "text": [
      "               Region Acronyms      Price          State\n",
      "0  Vineyard Haven, MA       MA  2366667.0  Massachusetts\n",
      "1         Edwards, CO       CO  1978833.0       Colorado\n",
      "2          Hailey, ID       ID  1545000.0          Idaho\n",
      "3         Jackson, WY       WY  1496333.0        Wyoming\n",
      "4     Santa Maria, CA       CA  1451750.0     California\n"
     ]
    }
   ],
   "source": [
    "cities = pd.read_csv('Resources/data/cities.csv')\n",
    "print(cities.head())\n",
    "db_path = \"Resources\\project3.sqlite\"\n",
    "conn = sqlite3.connect(db_path)\n",
    "cities.to_sql('cities_data', conn, index=False, if_exists='replace',dtype={'Region':'NVARCHAR PRIMARY KEY'})\n",
    "conn.close()"
   ]
  },
  {
   "cell_type": "code",
   "execution_count": 8,
   "metadata": {},
   "outputs": [
    {
     "name": "stdout",
     "output_type": "stream",
     "text": [
      "Index(['State', ' Median Home Price', ' Median Home Size(in square feet)'], dtype='object')\n"
     ]
    }
   ],
   "source": [
    "print(sqfeet.columns)"
   ]
  },
  {
   "cell_type": "code",
   "execution_count": 7,
   "metadata": {},
   "outputs": [
    {
     "name": "stdout",
     "output_type": "stream",
     "text": [
      "        State   Median Home Price   Median Home Size(in square feet)\n",
      "0     Alabama            165200.0                               1996\n",
      "1      Alaska            293400.0                               1857\n",
      "2     Arizona            349300.0                               1942\n",
      "3    Arkansas            145300.0                               1865\n",
      "4  California            684800.0                               1778\n"
     ]
    }
   ],
   "source": [
    "sqfeet = pd.read_csv('Resources/data/sqfeet.csv')\n",
    "sqfeet[' Median Home Price'] = sqfeet[' Median Home Price'].replace('[\\$,]', '', regex=True).astype(float)\n",
    "print(sqfeet.head())\n",
    "db_path = \"Resources\\project3.sqlite\"\n",
    "conn = sqlite3.connect(db_path)\n",
    "sqfeet.to_sql('sqfeet_data', conn, index=False, if_exists='replace', dtype={'State': 'TEXT PRIMARY KEY'})\n",
    "conn.close()"
   ]
  },
  {
   "cell_type": "code",
   "execution_count": 9,
   "metadata": {},
   "outputs": [],
   "source": [
    "house_price_file_path = \"Resources\\data\\house_price_data.xlsx\"\n",
    "house_price_df = pd.read_excel(house_price_file_path)\n",
    "db_path = \"Resources\\project3.sqlite\"\n",
    "conn = sqlite3.connect(db_path)\n",
    "house_price_df.to_sql('house_data', conn, index=False, if_exists='replace')\n",
    "conn.close()"
   ]
  },
  {
   "cell_type": "code",
   "execution_count": null,
   "metadata": {},
   "outputs": [],
   "source": [
    "\n",
    "    "
   ]
  },
  {
   "cell_type": "code",
   "execution_count": null,
   "metadata": {},
   "outputs": [],
   "source": []
  }
 ],
 "metadata": {
  "kernelspec": {
   "display_name": "dev",
   "language": "python",
   "name": "python3"
  },
  "language_info": {
   "codemirror_mode": {
    "name": "ipython",
    "version": 3
   },
   "file_extension": ".py",
   "mimetype": "text/x-python",
   "name": "python",
   "nbconvert_exporter": "python",
   "pygments_lexer": "ipython3",
   "version": "3.10.9"
  },
  "orig_nbformat": 4
 },
 "nbformat": 4,
 "nbformat_minor": 2
}
