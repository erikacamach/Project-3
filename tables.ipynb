{
 "cells": [
  {
   "cell_type": "code",
   "execution_count": 6,
   "metadata": {},
   "outputs": [],
   "source": [
    "from sqlalchemy import Column, String, Integer, ForeignKey\n",
    "from sqlalchemy.ext.declarative import declarative_base\n",
    "from sqlalchemy.orm import relationship\n",
    "from sqlalchemy import create_engine, select, and_\n",
    "from sqlalchemy.orm import sessionmaker\n",
    "from scipy import stats\n",
    "from numpy import mean\n",
    "Base = declarative_base()"
   ]
  },
  {
   "cell_type": "code",
   "execution_count": 7,
   "metadata": {},
   "outputs": [],
   "source": [
    "engine = create_engine('sqlite:///Resources/project3.sqlite')\n",
    "Session = sessionmaker(bind=engine)\n",
    "session = Session()"
   ]
  },
  {
   "cell_type": "code",
   "execution_count": 8,
   "metadata": {},
   "outputs": [],
   "source": [
    "class SqFeetData(Base):\n",
    "    __tablename__ = 'sqfeet_data'\n",
    "    state = Column(String, primary_key=True)\n",
    "    median_home_price = Column(Integer)  \n",
    "    median_home_size = Column(Integer)   \n",
    "    income_data_state = Column(String, ForeignKey('income_data.state'))\n",
    "    cities_data_state = Column(String, ForeignKey('cities_data.state'))\n",
    "    income_data = relationship(\"IncomeData\", back_populates=\"sqfeet_data\", foreign_keys=[income_data_state])\n",
    "    cities_data = relationship(\"CitiesData\", back_populates=\"sqfeet_data\", foreign_keys=[cities_data_state])\n",
    "\n",
    "class IncomeData(Base):\n",
    "    __tablename__ = 'income_data'\n",
    "    state = Column(String, primary_key=True)\n",
    "    earners_1 = Column(Integer)\n",
    "    earners_2 = Column(Integer)\n",
    "    earners_3 = Column(Integer)\n",
    "    earners_4 = Column(Integer)\n",
    "    sqfeet_data_state = Column(String, ForeignKey('sqfeet_data.state'))\n",
    "    sqfeet_data = relationship(\"SqFeetData\", back_populates=\"income_data\")\n",
    "\n",
    "class CitiesData(Base):\n",
    "    __tablename__ = 'cities_data'\n",
    "    state = Column(String, primary_key=True)\n",
    "    region = Column(String)\n",
    "    acronyms = Column(String)\n",
    "    price = Column(Integer)\n",
    "    sqfeet_data_state = Column(String, ForeignKey('sqfeet_data.state'))\n",
    "    sqfeet_data = relationship(\"SqFeetData\", back_populates=\"cities_data\")\n"
   ]
  },
  {
   "cell_type": "code",
   "execution_count": 9,
   "metadata": {},
   "outputs": [],
   "source": [
    "sqfeet_data_state = Column(String, ForeignKey('sqfeet_data.state'))\n",
    "cities_data_state = Column(String, ForeignKey('cities_data.state'))\n",
    "\n",
    "sqfeet_data = relationship(\"SqFeetData\", back_populates=\"income_data\", foreign_keys=[sqfeet_data_state])\n",
    "cities_data = relationship(\"CitiesData\", back_populates=\"income_data\", foreign_keys=[cities_data_state])"
   ]
  }
 ],
 "metadata": {
  "kernelspec": {
   "display_name": "dev",
   "language": "python",
   "name": "python3"
  },
  "language_info": {
   "codemirror_mode": {
    "name": "ipython",
    "version": 3
   },
   "file_extension": ".py",
   "mimetype": "text/x-python",
   "name": "python",
   "nbconvert_exporter": "python",
   "pygments_lexer": "ipython3",
   "version": "3.10.9"
  },
  "orig_nbformat": 4
 },
 "nbformat": 4,
 "nbformat_minor": 2
}
